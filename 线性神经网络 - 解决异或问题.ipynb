{
 "cells": [
  {
   "cell_type": "code",
   "execution_count": 47,
   "metadata": {},
   "outputs": [],
   "source": [
    "import numpy as np\n",
    "import matplotlib.pyplot as plt"
   ]
  },
  {
   "cell_type": "code",
   "execution_count": 48,
   "metadata": {},
   "outputs": [
    {
     "name": "stdout",
     "output_type": "stream",
     "text": [
      "[-0.12990431  0.96575123  0.46931653 -0.93420142  0.57979073  0.56518889]\n"
     ]
    }
   ],
   "source": [
    "#输入数据\n",
    "X = np.array([[1,0,0,0,0,0],\n",
    "              [1,0,1,0,0,1],\n",
    "              [1,1,0,1,0,0],\n",
    "              [1,1,1,1,1,1]])\n",
    "#标签\n",
    "Y = np.array([-1,1,1,-1])\n",
    "#权值初始化，1行3列，取值范围-1到1\n",
    "W = (np.random.random(6)-0.5)*2\n",
    "print(W)\n",
    "#学习率设置\n",
    "lr = 0.11\n",
    "#计算迭代次数\n",
    "n = 0\n",
    "#神经网络输出\n",
    "O = 0 \n",
    "\n",
    "def update():\n",
    "    global X,Y,W,lr,n\n",
    "    n+=1\n",
    "    O = np.dot(X,W.T)\n",
    "    W_C = (lr*(Y-O.T).dot(X))/X.shape[0]\n",
    "    W = W+W_C"
   ]
  },
  {
   "cell_type": "code",
   "execution_count": 49,
   "metadata": {},
   "outputs": [
    {
     "name": "stdout",
     "output_type": "stream",
     "text": [
      "xdata [-1.         -0.93877551 -0.87755102 -0.81632653 -0.75510204 -0.69387755\n",
      " -0.63265306 -0.57142857 -0.51020408 -0.44897959 -0.3877551  -0.32653061\n",
      " -0.26530612 -0.20408163 -0.14285714 -0.08163265 -0.02040816  0.04081633\n",
      "  0.10204082  0.16326531  0.2244898   0.28571429  0.34693878  0.40816327\n",
      "  0.46938776  0.53061224  0.59183673  0.65306122  0.71428571  0.7755102\n",
      "  0.83673469  0.89795918  0.95918367  1.02040816  1.08163265  1.14285714\n",
      "  1.20408163  1.26530612  1.32653061  1.3877551   1.44897959  1.51020408\n",
      "  1.57142857  1.63265306  1.69387755  1.75510204  1.81632653  1.87755102\n",
      "  1.93877551  2.        ]\n"
     ]
    },
    {
     "data": {
      "image/png": "[encoded data removed]",
      "text/plain": [
       "<Figure size 432x288 with 1 Axes>"
      ]
     },
     "metadata": {},
     "output_type": "display_data"
    }
   ],
   "source": [
    "for _ in range(100000):\n",
    "    update()#更新权值\n",
    "#     print(W)#打印当前权值\n",
    "#     print(n)#打印迭代次数\n",
    "    \n",
    "#正样本\n",
    "x1 = [0,1]\n",
    "y1 = [1,0]\n",
    "#负样本\n",
    "x2 = [0,1]\n",
    "y2 = [0,1]\n",
    "\n",
    "def calculate(x,root):\n",
    "    a = W[5]\n",
    "    b = W[2]+x*W[4]\n",
    "    c = W[0]+x*W[1]+x*x*W[3]\n",
    "    if root == 1:\n",
    "        return (-b+np.sqrt(b*b-4*a*c))/2*a\n",
    "    if root == 2:\n",
    "        return (-b-np.sqrt(b*b-4*a*c))/2*a\n",
    "    \n",
    "xdata = np.linspace(-1,2)#生成一个50个数的等差序列，数的范围为（0，5）\n",
    "print('xdata',xdata)\n",
    "    \n",
    "plt.figure()\n",
    "plt.plot(xdata,calculate(xdata,1),'r')#plot()函数画出一系列的点，并且用线将它们连接起来\n",
    "plt.plot(xdata,calculate(xdata,2),'r')\n",
    "\n",
    "plt.plot(x1,y1,'bo')\n",
    "plt.plot(x2,y2,'yo')\n",
    "plt.show()"
   ]
  },
  {
   "cell_type": "code",
   "execution_count": 50,
   "metadata": {},
   "outputs": [
    {
     "name": "stdout",
     "output_type": "stream",
     "text": [
      "[-1.  1.  1. -1.]\n"
     ]
    }
   ],
   "source": [
    "O = np.dot(X,W.T)\n",
    "print(O)"
   ]
  }
 ],
 "metadata": {
  "kernelspec": {
   "display_name": "Python 3",
   "language": "python",
   "name": "python3"
  },
  "language_info": {
   "codemirror_mode": {
    "name": "ipython",
    "version": 3
   },
   "file_extension": ".py",
   "mimetype": "text/x-python",
   "name": "python",
   "nbconvert_exporter": "python",
   "pygments_lexer": "ipython3",
   "version": "3.6.5"
  }
 },
 "nbformat": 4,
 "nbformat_minor": 2
}
