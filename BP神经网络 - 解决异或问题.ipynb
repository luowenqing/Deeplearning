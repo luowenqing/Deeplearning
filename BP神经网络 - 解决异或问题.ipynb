{
 "cells": [
  {
   "cell_type": "code",
   "execution_count": 20,
   "metadata": {},
   "outputs": [],
   "source": [
    "import numpy as np\n",
    "import matplotlib.pyplot as plt"
   ]
  },
  {
   "cell_type": "code",
   "execution_count": 21,
   "metadata": {},
   "outputs": [
    {
     "name": "stdout",
     "output_type": "stream",
     "text": [
      "[[ 0.79697584]\n",
      " [-0.899471  ]\n",
      " [-0.03021633]\n",
      " [-0.73609684]]\n",
      "[[-0.83225906  0.49092062 -0.93064959  0.39906478]\n",
      " [-0.4626103   0.40386656  0.90899369 -0.84416671]\n",
      " [-0.12415614 -0.30768482 -0.80695638 -0.11680479]]\n"
     ]
    }
   ],
   "source": [
    "#输入数据(4,3)\n",
    "X = np.array([[1,0,0],\n",
    "              [1,0,1],\n",
    "              [1,1,0],\n",
    "              [1,1,1]])\n",
    "#标签\n",
    "Y = np.array([[0,1,1,0]])\n",
    "#权值初始化，1行3列，取值范围-1到1\n",
    "V = (np.random.random((3,4))-0.5)*2 #输入层和隐藏层之间的权值（3，4）\n",
    "W = (np.random.random((4,1))-0.5)*2 #隐藏层和输出层之间的权值（4，1）\n",
    "print(W)\n",
    "print(V)\n",
    "#学习率设置\n",
    "lr = 0.11\n",
    "\n",
    "#激活函数sigmoid\n",
    "def sigmoid(x):\n",
    "    return 1/(1+np.exp(-x))\n",
    "\n",
    "#simoid求导\n",
    "def dsigmoid(x):\n",
    "    return x*(1-x)\n",
    "\n",
    "#权值更新\n",
    "def update():\n",
    "    global X,Y,W,V,lr\n",
    "    Output_hidden = sigmoid(np.dot(X,V))#隐藏层的输出（4，4）\n",
    "    Output_output = sigmoid(np.dot(Output_hidden,W))#输出层的输出(4,1)\n",
    "    \n",
    "    Output_output_delta = (Y.T - Output_output)*dsigmoid(Output_output)#输出层误差信号\n",
    "    Output_hidden_delta = Output_output_delta.dot(W.T)*dsigmoid(Output_hidden)#隐藏层误差信号\n",
    "    \n",
    "    #权值的增量\n",
    "    W_C = lr*Output_hidden.T.dot(Output_output_delta)#\n",
    "    V_C = lr*X.T.dot(Output_hidden_delta)\n",
    "    \n",
    "    W = W + W_C\n",
    "    V = V + V_C\n"
   ]
  },
  {
   "cell_type": "code",
   "execution_count": 25,
   "metadata": {},
   "outputs": [
    {
     "name": "stdout",
     "output_type": "stream",
     "text": [
      "Error 0.006722481867364967\n",
      "Error 0.006711968080461744\n",
      "Error 0.006701502339927143\n",
      "Error 0.006691084283599529\n",
      "Error 0.006680713553112746\n",
      "Error 0.0066703897938456425\n",
      "Error 0.006660112654871668\n",
      "Error 0.0066498817889102235\n",
      "Error 0.0066396968522776535\n",
      "Error 0.006629557504839739\n",
      "Error 0.006619463409965184\n",
      "Error 0.006609414234478989\n",
      "Error 0.006599409648617244\n",
      "Error 0.006589449325982851\n",
      "Error 0.006579532943500827\n",
      "Error 0.006569660181375644\n",
      "Error 0.006559830723048313\n",
      "Error 0.006550044255154733\n",
      "Error 0.006540300467484534\n",
      "Error 0.006530599052939871\n",
      "Error 0.006520939707496551\n",
      "Error 0.006511322130163323\n",
      "Error 0.006501746022944472\n",
      "Error 0.006492211090801057\n",
      "Error 0.0064827170416130505\n",
      "Error 0.006473263586143195\n",
      "Error 0.006463850438000195\n",
      "Error 0.006454477313602788\n",
      "Error 0.006445143932144832\n",
      "Error 0.006435850015560173\n",
      "Error 0.0064265952884888415\n",
      "Error 0.00641737947824287\n",
      "Error 0.006408202314773685\n",
      "Error 0.00639906353063903\n",
      "Error 0.006389962860970968\n",
      "Error 0.006380900043443988\n",
      "Error 0.006371874818244327\n",
      "Error 0.00636288692803846\n",
      "Error 0.006353936117943215\n",
      "Error 0.006345022135495877\n",
      "[[0.00497924]\n",
      " [0.99446599]\n",
      " [0.99287581]\n",
      " [0.0077072 ]]\n"
     ]
    }
   ],
   "source": [
    "for i in range(20000):\n",
    "    update()\n",
    "    if i%500==0:\n",
    "        Output_hidden = sigmoid(np.dot(X,V))#隐藏层的输出（4，4）\n",
    "        Output_output = sigmoid(np.dot(Output_hidden,W))#输出层的输出(4,1)\n",
    "        print('Error',np.mean(np.abs(Y.T-Output_output)))\n",
    "        \n",
    "Output_hidden = sigmoid(np.dot(X,V))#隐藏层的输出（4，4）\n",
    "Output_output = sigmoid(np.dot(Output_hidden,W))#输出层的输出(4,1)\n",
    "print(Output_output)"
   ]
  }
 ],
 "metadata": {
  "kernelspec": {
   "display_name": "Python 3",
   "language": "python",
   "name": "python3"
  },
  "language_info": {
   "codemirror_mode": {
    "name": "ipython",
    "version": 3
   },
   "file_extension": ".py",
   "mimetype": "text/x-python",
   "name": "python",
   "nbconvert_exporter": "python",
   "pygments_lexer": "ipython3",
   "version": "3.6.5"
  }
 },
 "nbformat": 4,
 "nbformat_minor": 2
}
