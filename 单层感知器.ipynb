{
 "cells": [
  {
   "cell_type": "code",
   "execution_count": 26,
   "metadata": {},
   "outputs": [],
   "source": [
    "import numpy as np\n",
    "import matplotlib.pyplot as plt"
   ]
  },
  {
   "cell_type": "code",
   "execution_count": 27,
   "metadata": {
    "scrolled": false
   },
   "outputs": [
    {
     "name": "stdout",
     "output_type": "stream",
     "text": [
      "[ 0.86051854  0.759672   -0.55917981]\n"
     ]
    }
   ],
   "source": [
    "#输入数据\n",
    "X = np.array([[1,3,3],\n",
    "             [1,4,3],\n",
    "             [1,1,1]])\n",
    "#标签\n",
    "Y = np.array([1,1,-1])\n",
    "#权值初始化，1行3列，取值范围-1到1\n",
    "W = (np.random.random(3)-0.5)*2\n",
    "print(W)\n",
    "#学习率设置\n",
    "lr = 0.11\n",
    "#计算迭代次数\n",
    "n = 0\n",
    "#神经网络输出\n",
    "O = 0 \n",
    "\n",
    "def update():\n",
    "    global X,Y,W,lr,n\n",
    "    n+=1\n",
    "    O = np.sign(np.dot(X,W.T))\n",
    "    W_C = (lr*(Y-O.T).dot(X))/X.shape[0]\n",
    "    W = W+W_C"
   ]
  },
  {
   "cell_type": "code",
   "execution_count": 28,
   "metadata": {
    "scrolled": true
   },
   "outputs": [
    {
     "name": "stdout",
     "output_type": "stream",
     "text": [
      "[ 0.78718521  0.68633867 -0.63251315]\n",
      "1\n",
      "[ 0.71385187  0.61300534 -0.70584648]\n",
      "2\n",
      "[ 0.64051854  0.539672   -0.77917981]\n",
      "3\n",
      "[ 0.64051854  0.68633867 -0.63251315]\n",
      "4\n",
      "[ 0.56718521  0.61300534 -0.70584648]\n",
      "5\n",
      "[ 0.49385187  0.539672   -0.77917981]\n",
      "6\n",
      "[ 0.49385187  0.68633867 -0.63251315]\n",
      "7\n",
      "[ 0.42051854  0.61300534 -0.70584648]\n",
      "8\n",
      "[ 0.34718521  0.539672   -0.77917981]\n",
      "9\n",
      "[ 0.34718521  0.68633867 -0.63251315]\n",
      "10\n",
      "[ 0.27385187  0.61300534 -0.70584648]\n",
      "11\n",
      "[ 0.27385187  0.759672   -0.55917981]\n",
      "12\n",
      "[ 0.20051854  0.68633867 -0.63251315]\n",
      "13\n",
      "[ 0.12718521  0.61300534 -0.70584648]\n",
      "14\n",
      "[ 0.12718521  0.759672   -0.55917981]\n",
      "15\n",
      "[ 0.05385187  0.68633867 -0.63251315]\n",
      "16\n",
      "[-0.01948146  0.61300534 -0.70584648]\n",
      "17\n",
      "[ 0.05385187  0.83300534 -0.48584648]\n",
      "18\n",
      "[-0.01948146  0.759672   -0.55917981]\n",
      "19\n",
      "[-0.09281479  0.68633867 -0.63251315]\n",
      "20\n",
      "Finished!\n",
      "epoch 20\n",
      "k= 1.085097874678484\n",
      "d= -0.14673970555496188\n",
      "xdata [0.         0.10204082 0.20408163 0.30612245 0.40816327 0.51020408\n",
      " 0.6122449  0.71428571 0.81632653 0.91836735 1.02040816 1.12244898\n",
      " 1.2244898  1.32653061 1.42857143 1.53061224 1.63265306 1.73469388\n",
      " 1.83673469 1.93877551 2.04081633 2.14285714 2.24489796 2.34693878\n",
      " 2.44897959 2.55102041 2.65306122 2.75510204 2.85714286 2.95918367\n",
      " 3.06122449 3.16326531 3.26530612 3.36734694 3.46938776 3.57142857\n",
      " 3.67346939 3.7755102  3.87755102 3.97959184 4.08163265 4.18367347\n",
      " 4.28571429 4.3877551  4.48979592 4.59183673 4.69387755 4.79591837\n",
      " 4.89795918 5.        ]\n"
     ]
    },
    {
     "data": {
      "image/png": "[encoded data removed]",
      "text/plain": [
       "<Figure size 432x288 with 1 Axes>"
      ]
     },
     "metadata": {},
     "output_type": "display_data"
    }
   ],
   "source": [
    "for _ in range(100):\n",
    "    update()#更新权值\n",
    "    print(W)#打印当前权值\n",
    "    print(n)#打印迭代次数\n",
    "    O = np.sign(np.dot(X,W.T))#计算当前输出\n",
    "    if(O == Y.T).all():#如果实际输出等于期望输出，模型收敛循环结束\n",
    "        print('Finished!')\n",
    "        print('epoch',n)\n",
    "        break\n",
    "#正样本\n",
    "x1 = [3,4]\n",
    "y1 = [3,3]\n",
    "#负样本\n",
    "x2 = [1]\n",
    "y2 = [1]\n",
    "    \n",
    "#计算分界线的斜率和截距\n",
    "k = -W[1]/W[2]\n",
    "d = -W[0]/W[2]\n",
    "print('k=',k)\n",
    "print('d=',d)\n",
    "    \n",
    "xdata = np.linspace(0,5)#生成一个50个数的等差序列，数的范围为（0，5）\n",
    "print('xdata',xdata)\n",
    "    \n",
    "plt.figure()\n",
    "plt.plot(xdata,xdata*k+d,'r')#plot()函数画出一系列的点，并且用线将它们连接起来\n",
    "plt.plot(x1,y1,'bo')\n",
    "plt.plot(x2,y2,'yo')\n",
    "plt.show()"
   ]
  }
 ],
 "metadata": {
  "kernelspec": {
   "display_name": "Python 3",
   "language": "python",
   "name": "python3"
  },
  "language_info": {
   "codemirror_mode": {
    "name": "ipython",
    "version": 3
   },
   "file_extension": ".py",
   "mimetype": "text/x-python",
   "name": "python",
   "nbconvert_exporter": "python",
   "pygments_lexer": "ipython3",
   "version": "3.6.5"
  }
 },
 "nbformat": 4,
 "nbformat_minor": 2
}
